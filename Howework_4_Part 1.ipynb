{
 "cells": [
  {
   "cell_type": "code",
   "execution_count": 26,
   "id": "1f8fbf6b",
   "metadata": {},
   "outputs": [],
   "source": [
    "donations = [{'year': 2017, 'doner': 'David_H_Koch_Charitable_Foundation', \n",
    "          'grantee': 'City_Center_For_Music_And_Drama', 'amount':15_000_000},\n",
    "         \n",
    "         {'year': 2013, 'doner': 'Bradley_Impact_Fund_Inc',\n",
    "          'grantee': 'Young_Americas_Foundation', 'amount': 11_000},\n",
    "{'year': 2016, 'doner': 'Mercer_Family_Foundation', 'grantee': 'The_Becket_Fund', 'amount': 250_000},\n",
    "{'year': 2012, 'doner': 'Charles_Koch_Foundation', 'grantee': 'The_Phillips_Foundation', 'amount': 25_000},\n",
    "{'year': 2017, 'doner': 'Barbara_And_Barre_Seid_Foundation', 'grantee': 'Boys_Scouts_of_America',\n",
    " 'amount': 2_634_600}]"
   ]
  },
  {
   "cell_type": "code",
   "execution_count": 27,
   "id": "91e125d7",
   "metadata": {},
   "outputs": [
    {
     "data": {
      "text/plain": [
       "[{'year': 2017,\n",
       "  'doner': 'David_H_Koch_Charitable_Foundation',\n",
       "  'grantee': 'City_Center_For_Music_And_Drama',\n",
       "  'amount': 15000000},\n",
       " {'year': 2013,\n",
       "  'doner': 'Bradley_Impact_Fund_Inc',\n",
       "  'grantee': 'Young_Americas_Foundation',\n",
       "  'amount': 11000},\n",
       " {'year': 2016,\n",
       "  'doner': 'Mercer_Family_Foundation',\n",
       "  'grantee': 'The_Becket_Fund',\n",
       "  'amount': 250000},\n",
       " {'year': 2012,\n",
       "  'doner': 'Charles_Koch_Foundation',\n",
       "  'grantee': 'The_Phillips_Foundation',\n",
       "  'amount': 25000},\n",
       " {'year': 2017,\n",
       "  'doner': 'Barbara_And_Barre_Seid_Foundation',\n",
       "  'grantee': 'Boys_Scouts_of_America',\n",
       "  'amount': 2634600}]"
      ]
     },
     "execution_count": 27,
     "metadata": {},
     "output_type": "execute_result"
    }
   ],
   "source": [
    "donations\n"
   ]
  },
  {
   "cell_type": "code",
   "execution_count": 29,
   "id": "e8c75911",
   "metadata": {},
   "outputs": [],
   "source": [
    "disasters = [\n",
    "        \"Landslides\",\n",
    "        \"Earthquake\",\n",
    "        \"Wildfires\",\n",
    "        \"Tornadoes\",\n",
    "        \"Hurricane\",\n",
    "        \"Wind Storm\",\n",
    "        \"Winter Freeze\",\n",
    "        \"Ice Storm\",\n",
    "        \"Drought\",\n",
    "        \"Tsunami\",\n",
    "        \"Flash floods\",\n",
    "        \"Mudslides\",\n",
    "        \"Torrential rainfall\",\n",
    "        \"Riverine floods\",\n",
    "        \"Tidal Surge\"\n",
    "         ]"
   ]
  },
  {
   "cell_type": "code",
   "execution_count": 30,
   "id": "12855d70",
   "metadata": {},
   "outputs": [
    {
     "data": {
      "text/plain": [
       "['Landslides',\n",
       " 'Earthquake',\n",
       " 'Wildfires',\n",
       " 'Tornadoes',\n",
       " 'Hurricane',\n",
       " 'Wind Storm',\n",
       " 'Winter Freeze',\n",
       " 'Ice Storm',\n",
       " 'Drought',\n",
       " 'Tsunami',\n",
       " 'Flash floods',\n",
       " 'Mudslides',\n",
       " 'Torrential rainfall',\n",
       " 'Riverine floods',\n",
       " 'Tidal Surge']"
      ]
     },
     "execution_count": 30,
     "metadata": {},
     "output_type": "execute_result"
    }
   ],
   "source": [
    "disasters\n"
   ]
  },
  {
   "cell_type": "code",
   "execution_count": 32,
   "id": "fb29aae2",
   "metadata": {},
   "outputs": [
    {
     "data": {
      "text/plain": [
       "'Landslides'"
      ]
     },
     "execution_count": 32,
     "metadata": {},
     "output_type": "execute_result"
    }
   ],
   "source": [
    "disasters[0]"
   ]
  },
  {
   "cell_type": "code",
   "execution_count": 34,
   "id": "01245c14",
   "metadata": {},
   "outputs": [
    {
     "data": {
      "text/plain": [
       "'Riverine floods'"
      ]
     },
     "execution_count": 34,
     "metadata": {},
     "output_type": "execute_result"
    }
   ],
   "source": [
    "disasters[-2]"
   ]
  },
  {
   "cell_type": "code",
   "execution_count": 42,
   "id": "1a963cef",
   "metadata": {},
   "outputs": [],
   "source": [
    "disasters_subset=disasters[2:6]"
   ]
  },
  {
   "cell_type": "code",
   "execution_count": 43,
   "id": "b8c70eb1",
   "metadata": {},
   "outputs": [
    {
     "data": {
      "text/plain": [
       "['Wildfires', 'Tornadoes', 'Hurricane', 'Wind Storm']"
      ]
     },
     "execution_count": 43,
     "metadata": {},
     "output_type": "execute_result"
    }
   ],
   "source": [
    "disasters_subset\n"
   ]
  },
  {
   "cell_type": "code",
   "execution_count": 44,
   "id": "ea764d1a",
   "metadata": {},
   "outputs": [],
   "source": [
    "disasters_subset2=disasters[1:8]"
   ]
  },
  {
   "cell_type": "code",
   "execution_count": 45,
   "id": "db095110",
   "metadata": {},
   "outputs": [
    {
     "data": {
      "text/plain": [
       "['Earthquake',\n",
       " 'Wildfires',\n",
       " 'Tornadoes',\n",
       " 'Hurricane',\n",
       " 'Wind Storm',\n",
       " 'Winter Freeze',\n",
       " 'Ice Storm']"
      ]
     },
     "execution_count": 45,
     "metadata": {},
     "output_type": "execute_result"
    }
   ],
   "source": [
    "disasters_subset2\n"
   ]
  },
  {
   "cell_type": "code",
   "execution_count": 52,
   "id": "f2c78a37",
   "metadata": {},
   "outputs": [],
   "source": [
    "index=disasters.index('Tsunami')"
   ]
  },
  {
   "cell_type": "code",
   "execution_count": 54,
   "id": "685641b6",
   "metadata": {},
   "outputs": [
    {
     "data": {
      "text/plain": [
       "9"
      ]
     },
     "execution_count": 54,
     "metadata": {},
     "output_type": "execute_result"
    }
   ],
   "source": [
    "index"
   ]
  },
  {
   "cell_type": "code",
   "execution_count": 55,
   "id": "f47043c2",
   "metadata": {},
   "outputs": [],
   "source": [
    "water_incidents=disasters[9:]"
   ]
  },
  {
   "cell_type": "code",
   "execution_count": 56,
   "id": "b9b34702",
   "metadata": {},
   "outputs": [
    {
     "data": {
      "text/plain": [
       "['Tsunami',\n",
       " 'Flash floods',\n",
       " 'Mudslides',\n",
       " 'Torrential rainfall',\n",
       " 'Riverine floods',\n",
       " 'Tidal Surge']"
      ]
     },
     "execution_count": 56,
     "metadata": {},
     "output_type": "execute_result"
    }
   ],
   "source": [
    "water_incidents"
   ]
  },
  {
   "cell_type": "code",
   "execution_count": 57,
   "id": "6335c7ca",
   "metadata": {},
   "outputs": [],
   "source": [
    "ag_com = {'committee_name': 'Agriculture',\n",
    "          'branch': 'house',\n",
    "          'chair': 'GLENN \"GT\" THOMPSON',     \n",
    "  'link': 'https://www.congress.gov/committee/house-agriculture/hsag00'}"
   ]
  },
  {
   "cell_type": "code",
   "execution_count": 58,
   "id": "87e54ecb",
   "metadata": {},
   "outputs": [
    {
     "data": {
      "text/plain": [
       "{'committee_name': 'Agriculture',\n",
       " 'branch': 'house',\n",
       " 'chair': 'GLENN \"GT\" THOMPSON',\n",
       " 'link': 'https://www.congress.gov/committee/house-agriculture/hsag00'}"
      ]
     },
     "execution_count": 58,
     "metadata": {},
     "output_type": "execute_result"
    }
   ],
   "source": [
    "ag_com\n"
   ]
  },
  {
   "cell_type": "code",
   "execution_count": 61,
   "id": "aca2985c",
   "metadata": {},
   "outputs": [
    {
     "data": {
      "text/plain": [
       "'Agriculture'"
      ]
     },
     "execution_count": 61,
     "metadata": {},
     "output_type": "execute_result"
    }
   ],
   "source": [
    "ag_com['committee_name']"
   ]
  },
  {
   "cell_type": "code",
   "execution_count": 62,
   "id": "ad3dede9",
   "metadata": {},
   "outputs": [
    {
     "data": {
      "text/plain": [
       "'https://www.congress.gov/committee/house-agriculture/hsag00'"
      ]
     },
     "execution_count": 62,
     "metadata": {},
     "output_type": "execute_result"
    }
   ],
   "source": [
    "ag_com['link']"
   ]
  },
  {
   "cell_type": "code",
   "execution_count": null,
   "id": "77d0ffc4",
   "metadata": {},
   "outputs": [],
   "source": []
  }
 ],
 "metadata": {
  "kernelspec": {
   "display_name": "Python 3 (ipykernel)",
   "language": "python",
   "name": "python3"
  },
  "language_info": {
   "codemirror_mode": {
    "name": "ipython",
    "version": 3
   },
   "file_extension": ".py",
   "mimetype": "text/x-python",
   "name": "python",
   "nbconvert_exporter": "python",
   "pygments_lexer": "ipython3",
   "version": "3.9.13"
  }
 },
 "nbformat": 4,
 "nbformat_minor": 5
}
